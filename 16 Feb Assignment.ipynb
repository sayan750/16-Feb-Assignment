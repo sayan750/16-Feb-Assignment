{
 "cells": [
  {
   "cell_type": "markdown",
   "id": "19c3d256",
   "metadata": {},
   "source": [
    "### Q1.\n",
    "\n",
    "**A database is a structured collection of data that is organized and managed to enable easy access, retrieval, and manipulation of data. Databases are used to store and manage data for various applications, including websites, mobile applications, and enterprise software.**\n",
    "\n",
    "**Differentiation between SQL & NOSQL:-**\n",
    "\n",
    "**SQL is relation database management system & NoSQL is non relational database management system.**\n",
    "\n",
    "**SQL databases have fixed or static or predefined schema & NoSQL have dynamic schema.**\n",
    "\n",
    "**SQL is vertically scalable & NoSQL is horizontally scalable.**\n",
    "\n",
    "**SQL databases are best suited for complex queries & NoSQL databases are not best suited for complex queries.**\n",
    "\n",
    "**SQL Examples: MySQL, PostgreSQL, Oracle, MS-SQL Server, etc & NoSQL Examples: MongoDB, GraphQL, HBase, Neo4j, Cassandra, etc.**"
   ]
  },
  {
   "cell_type": "markdown",
   "id": "461e3b83",
   "metadata": {},
   "source": [
    "### Q2.\n",
    "\n",
    "**DDL stands for Data Definition Language, which is a subset of SQL (Structured Query Language) that is used to define and manage the structure of database objects, such as tables, indexes, views, and constraints.**\n",
    "\n",
    "**CREATE: This command is used to create new database objects such as tables, indexes, views, or stored procedures.**\n",
    "\n",
    "**DROP: This command is used to delete existing database objects, such as tables or views.**\n",
    "\n",
    "**ALTER: This command is used to modify the structure of an existing database object, such as adding or deleting columns from a table.**\n",
    "\n",
    "**TRUNCATE: This command is used to delete all data from an existing table while keeping its structure intact.**"
   ]
  },
  {
   "cell_type": "markdown",
   "id": "819f0e67",
   "metadata": {},
   "source": [
    "### Q3.\n",
    "\n",
    "**DML stands for Data Manipulation Language, which is used to manipulate data stored in a database. There are three main types of DML statements: INSERT, UPDATE, and DELETE.**\n",
    "\n",
    "**INSERT statement: The INSERT statement is used to insert new data into a table.**\n",
    "\n",
    "**UPDATE statement: The UPDATE statement is used to modify existing data in a table.**\n",
    "\n",
    "**DELETE statement: The DELETE statement is used to delete data from a table.**"
   ]
  },
  {
   "cell_type": "markdown",
   "id": "3afb5dbd",
   "metadata": {},
   "source": [
    "### Q4.\n",
    "\n",
    "**DQL stands for Data Query Language, and it is a type of SQL (Structured Query Language) statement used to retrieve data from a database. DQL is used to query a database to retrieve specific information or data that meets certain criteria.**\n",
    "\n",
    "**SELECT is one of the most commonly used DQL statements, and it is used to retrieve data from one or more tables in a database. The SELECT statement can be used to retrieve all data from a table, specific columns from a table, or data that meets certain criteria based on a WHERE clause.**"
   ]
  },
  {
   "cell_type": "code",
   "execution_count": 19,
   "id": "6914bff0",
   "metadata": {},
   "outputs": [
    {
     "name": "stdout",
     "output_type": "stream",
     "text": [
      "Requirement already satisfied: mysql-connector-python in c:\\users\\dell\\anaconda3\\lib\\site-packages (8.0.32)\n",
      "Requirement already satisfied: protobuf<=3.20.3,>=3.11.0 in c:\\users\\dell\\anaconda3\\lib\\site-packages (from mysql-connector-python) (3.20.3)\n",
      "(1, 'SAYAN', 120)\n",
      "(2, 'SANGITA', 130)\n"
     ]
    }
   ],
   "source": [
    "!pip install mysql-connector-python\n",
    "import mysql.connector\n",
    "mydb = mysql.connector.connect(\n",
    "  host=\"localhost\",\n",
    "  user=\"root\",\n",
    "  password=\"12345\"\n",
    ")\n",
    "mycursor = mydb.cursor()\n",
    "mycursor.execute(\"SELECT * FROM sayandata.students\")\n",
    "for x in mycursor:\n",
    "    print(x)"
   ]
  },
  {
   "cell_type": "markdown",
   "id": "34b720f0",
   "metadata": {},
   "source": [
    "### Q5.\n",
    "\n",
    "**A primary key is a column or a combination of columns that uniquely identifies each row in a table. It is used to ensure data integrity by ensuring that each row in the table has a unique identifier. Primary keys are also used to establish relationships between tables.**\n",
    "\n",
    "**A foreign key is a column or a combination of columns in one table that refers to the primary key of another table. It is used to establish a relationship between the two tables, where the foreign key in one table is a reference to the primary key in another table. This relationship is used to enforce referential integrity, which ensures that any data entered into the foreign key column must already exist in the primary key column of the related table.**"
   ]
  },
  {
   "cell_type": "markdown",
   "id": "96c78e84",
   "metadata": {},
   "source": [
    "### Q6."
   ]
  },
  {
   "cell_type": "code",
   "execution_count": 18,
   "id": "2db95e74",
   "metadata": {},
   "outputs": [
    {
     "name": "stdout",
     "output_type": "stream",
     "text": [
      "Requirement already satisfied: mysql-connector-python in c:\\users\\dell\\anaconda3\\lib\\site-packages (8.0.32)\n",
      "Requirement already satisfied: protobuf<=3.20.3,>=3.11.0 in c:\\users\\dell\\anaconda3\\lib\\site-packages (from mysql-connector-python) (3.20.3)\n",
      "<mysql.connector.connection_cext.CMySQLConnection object at 0x0000016C4A45CA60>\n",
      "('information_schema',)\n",
      "('mysql',)\n",
      "('performance_schema',)\n",
      "('sakila',)\n",
      "('sayan',)\n",
      "('sayandata',)\n",
      "('sys',)\n",
      "('world',)\n"
     ]
    }
   ],
   "source": [
    "!pip install mysql-connector-python\n",
    "import mysql.connector\n",
    "mydb = mysql.connector.connect(\n",
    "  host=\"localhost\",\n",
    "  user=\"root\",\n",
    "  password=\"12345\"\n",
    ")\n",
    "print(mydb)\n",
    "mycursor = mydb.cursor()\n",
    "mycursor.execute(\"SHOW DATABASES\")\n",
    "for x in mycursor:\n",
    "    print(x)"
   ]
  },
  {
   "cell_type": "markdown",
   "id": "ecaaf559",
   "metadata": {},
   "source": [
    "**The cursor() method is used to create a cursor object, which is used to execute SQL statements, and the execute() method is used to execute those SQL statements.**"
   ]
  },
  {
   "cell_type": "markdown",
   "id": "8710e534",
   "metadata": {},
   "source": [
    "### Q7.\n",
    "\n",
    "**The order of execution of SQL clauses in an SQL query is as follows:-**\n",
    "\n",
    "**FROM clause: This clause specifies the tables from which the data will be selected.**\n",
    "\n",
    "**WHERE clause: This clause is used to filter the data based on certain conditions.**\n",
    "\n",
    "**GROUP BY clause: This clause is used to group the data based on one or more columns.**\n",
    "\n",
    "**HAVING clause: This clause is used to filter the grouped data based on certain conditions.**\n",
    "\n",
    "**SELECT clause: This clause selects the columns to be displayed in the result set.**\n",
    "\n",
    "**ORDER BY clause: This clause is used to sort the result set based on one or more columns.**\n",
    "\n",
    "**LIMIT clause: This clause is used to limit the number of rows returned in the result set.**\n",
    "\n",
    "**It's important to note that not all SQL queries will include all of these clauses, and some clauses may appear in a different order depending on the specific query.**"
   ]
  },
  {
   "cell_type": "code",
   "execution_count": null,
   "id": "34d08b9c",
   "metadata": {},
   "outputs": [],
   "source": []
  },
  {
   "cell_type": "code",
   "execution_count": null,
   "id": "9d8ff97a",
   "metadata": {},
   "outputs": [],
   "source": []
  },
  {
   "cell_type": "code",
   "execution_count": null,
   "id": "a72bcd68",
   "metadata": {},
   "outputs": [],
   "source": []
  }
 ],
 "metadata": {
  "kernelspec": {
   "display_name": "Python 3 (ipykernel)",
   "language": "python",
   "name": "python3"
  },
  "language_info": {
   "codemirror_mode": {
    "name": "ipython",
    "version": 3
   },
   "file_extension": ".py",
   "mimetype": "text/x-python",
   "name": "python",
   "nbconvert_exporter": "python",
   "pygments_lexer": "ipython3",
   "version": "3.9.13"
  }
 },
 "nbformat": 4,
 "nbformat_minor": 5
}
